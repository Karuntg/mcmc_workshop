{
 "cells": [
  {
   "cell_type": "code",
   "execution_count": 1,
   "metadata": {},
   "outputs": [],
   "source": [
    "# Import modules and make matplotlib plot inline\n",
    "import numpy as np\n",
    "import matplotlib.pyplot as plt\n",
    "import emcee\n",
    "import ptemcee\n",
    "import corner\n",
    "%matplotlib inline  "
   ]
  },
  {
   "cell_type": "markdown",
   "metadata": {},
   "source": [
    "# 1. Mock data (two point sources)"
   ]
  },
  {
   "cell_type": "markdown",
   "metadata": {},
   "source": [
    "Let's first generate some mock image data (i.e. 2D array) that represents two point sources (e.g. a binary star system) and visualize it"
   ]
  },
  {
   "cell_type": "code",
   "execution_count": 2,
   "metadata": {},
   "outputs": [
    {
     "data": {
      "image/png": "[encoded data removed]",
      "text/plain": [
       "<Figure size 432x288 with 1 Axes>"
      ]
     },
     "metadata": {
      "needs_background": "light"
     },
     "output_type": "display_data"
    }
   ],
   "source": [
    "# Set up image\n",
    "image_size = 50\n",
    "x = np.linspace(0,image_size-1,image_size) # x coordinates\n",
    "y = np.linspace(0,image_size-1,image_size) # y coordinates\n",
    "xx,yy = np.meshgrid(x,y) # grid of x,y coordinates\n",
    "# Position of first point source\n",
    "x1 = 15\n",
    "y1 = 15\n",
    "# Position of second point source\n",
    "x2 = 35\n",
    "y2 = 35\n",
    "# Peak and width of both point sources (constant to keep things simpler)\n",
    "peak = 500\n",
    "width = 1.0\n",
    "# Compute distance to each source in image coordinates\n",
    "dist1 = np.sqrt((xx-x1)**2.0+(yy-y1)**2.0)\n",
    "dist2 = np.sqrt((xx-x2)**2.0+(yy-y2)**2.0)\n",
    "# Add the Gaussian two point sources to the image\n",
    "image = peak*np.exp(-0.5*dist1**2.0/width**2.0) + 2.0*peak*np.exp(-0.5*dist2**2.0/width**2.0)\n",
    "# Visualize this\n",
    "plt.imshow(image,origin='lower');"
   ]
  },
  {
   "cell_type": "markdown",
   "metadata": {},
   "source": [
    "Now let's add some noise to our mock image"
   ]
  },
  {
   "cell_type": "code",
   "execution_count": 3,
   "metadata": {},
   "outputs": [],
   "source": [
    "# Generate some Gaussian noise\n",
    "#gauss_noise_amp = 50\n",
    "#gauss_noise = np.random.randn(image_size,image_size)\n",
    "#plt.imshow(gauss_noise,origin='lower'); "
   ]
  },
  {
   "cell_type": "code",
   "execution_count": 4,
   "metadata": {},
   "outputs": [],
   "source": [
    "# Generate some Poisson noise\n",
    "#shot_noise = np.random.poisson(lam=np.sqrt(image),size=(image_size,image_size))\n",
    "#plt.imshow(shot_noise,origin='lower');"
   ]
  },
  {
   "cell_type": "code",
   "execution_count": 5,
   "metadata": {},
   "outputs": [],
   "source": [
    "# Add noise to data\n",
    "#image = image + gauss_noise + shot_noise\n",
    "#plt.imshow(image,origin='lower');"
   ]
  },
  {
   "cell_type": "markdown",
   "metadata": {},
   "source": [
    "# 2. Create a model and write likelihood function for least squares fitting"
   ]
  },
  {
   "cell_type": "markdown",
   "metadata": {},
   "source": [
    "Our model PSF will be a single Gaussian peak (maybe we expected this to be a single star)."
   ]
  },
  {
   "cell_type": "code",
   "execution_count": 6,
   "metadata": {},
   "outputs": [],
   "source": [
    "def compute_model(params,image_size):\n",
    "    # Set up grid\n",
    "    x = np.linspace(0,image_size-1,image_size) # x coordinates\n",
    "    y = np.linspace(0,image_size-1,image_size) # y coordinates\n",
    "    xx,yy = np.meshgrid(x,y) # grid of x,y coordinates\n",
    "    # Get parameters\n",
    "    xs,ys = params\n",
    "    # Compute distance to model source location\n",
    "    dist = np.sqrt((xx-xs)**2.0+(yy-ys)**2.0)\n",
    "    # Compute model image\n",
    "    model_image = 500*np.exp(-0.5*dist**2.0)\n",
    "    return model_image"
   ]
  },
  {
   "cell_type": "markdown",
   "metadata": {},
   "source": [
    "Compute likelihood (least squares)"
   ]
  },
  {
   "cell_type": "code",
   "execution_count": 7,
   "metadata": {},
   "outputs": [],
   "source": [
    "def get_ln_like(params,image):\n",
    "    image_size = image.shape[0]\n",
    "    model_image = compute_model(params,image_size)\n",
    "    least_squares = np.sum((model_image-image)**2.0)\n",
    "    ln_like = -0.5*least_squares\n",
    "    return ln_like"
   ]
  },
  {
   "cell_type": "markdown",
   "metadata": {},
   "source": [
    "Use uninformed priors (require all values positive and position within the image)"
   ]
  },
  {
   "cell_type": "code",
   "execution_count": 8,
   "metadata": {},
   "outputs": [],
   "source": [
    "def get_ln_prior(params,image):\n",
    "    xs,ys = params\n",
    "    \n",
    "    # Prior on xs\n",
    "    max_xs=image.shape[1]-1\n",
    "    # Check if x position within range\n",
    "    if xs < 0 or xs > max_xs: # Not in range, return ln(0)\n",
    "        ln_prior_xs = -np.inf \n",
    "    else: # within range, return 1/(max-min)\n",
    "        ln_prior_xs = np.log(1.0/max_xs)\n",
    "\n",
    "    # Prior on ys\n",
    "    max_ys=image.shape[0]-1\n",
    "    # Check if y position within range\n",
    "    if ys < 0 or ys > max_ys: # Not in range, return ln(0)\n",
    "        ln_prior_ys = -np.inf \n",
    "    else: # within range, return 1/(max-min)\n",
    "        ln_prior_ys = np.log(1.0/max_ys)\n",
    "\n",
    "    # Compute the joint prior\n",
    "    ln_prior = ln_prior_xs + ln_prior_ys \n",
    "    \n",
    "    return ln_prior"
   ]
  },
  {
   "cell_type": "markdown",
   "metadata": {},
   "source": [
    "Put it all together for the posterior"
   ]
  },
  {
   "cell_type": "code",
   "execution_count": 9,
   "metadata": {},
   "outputs": [],
   "source": [
    "def get_ln_post(params,image):\n",
    "    ln_like = get_ln_like(params,image)\n",
    "    ln_prior = get_ln_prior(params,image)\n",
    "    ln_post = ln_like + ln_prior\n",
    "    return ln_post"
   ]
  },
  {
   "cell_type": "markdown",
   "metadata": {},
   "source": [
    "Test out the model"
   ]
  },
  {
   "cell_type": "code",
   "execution_count": 10,
   "metadata": {},
   "outputs": [
    {
     "data": {
      "image/png": "[encoded data removed]",
      "text/plain": [
       "<Figure size 432x288 with 1 Axes>"
      ]
     },
     "metadata": {
      "needs_background": "light"
     },
     "output_type": "display_data"
    }
   ],
   "source": [
    "test_params = [25,25]\n",
    "plt.imshow(compute_model(test_params,50),origin='lower');"
   ]
  },
  {
   "cell_type": "markdown",
   "metadata": {},
   "source": [
    "# 3. Try with EnsembleSampler"
   ]
  },
  {
   "cell_type": "code",
   "execution_count": 11,
   "metadata": {},
   "outputs": [],
   "source": [
    "# Set up the emcee sampler\n",
    "ndim=2\n",
    "nwalkers=100\n",
    "\n",
    "# Construct the EnsembleSampler object using the posterior\n",
    "sampler = emcee.EnsembleSampler(nwalkers, ndim, get_ln_post, args=[image])"
   ]
  },
  {
   "cell_type": "markdown",
   "metadata": {},
   "source": [
    "Let's use an initial guess near the bottom left point source"
   ]
  },
  {
   "cell_type": "code",
   "execution_count": 12,
   "metadata": {},
   "outputs": [],
   "source": [
    "p0_bl = emcee.utils.sample_ball((15,15),(5,5),nwalkers)"
   ]
  },
  {
   "cell_type": "markdown",
   "metadata": {},
   "source": [
    "Now run the EnsembleSampler near this source"
   ]
  },
  {
   "cell_type": "code",
   "execution_count": 13,
   "metadata": {},
   "outputs": [
    {
     "name": "stderr",
     "output_type": "stream",
     "text": [
      "//anaconda/envs/emcee_workshop/lib/python3.7/site-packages/emcee/ensemble.py:335: RuntimeWarning: invalid value encountered in subtract\n",
      "  lnpdiff = (self.dim - 1.) * np.log(zz) + newlnprob - lnprob0\n",
      "//anaconda/envs/emcee_workshop/lib/python3.7/site-packages/emcee/ensemble.py:336: RuntimeWarning: invalid value encountered in greater\n",
      "  accept = (lnpdiff > np.log(self._random.rand(len(lnpdiff))))\n"
     ]
    },
    {
     "name": "stdout",
     "output_type": "stream",
     "text": [
      "CPU times: user 14.3 s, sys: 28.2 ms, total: 14.3 s\n",
      "Wall time: 14.4 s\n"
     ]
    }
   ],
   "source": [
    "%%time\n",
    "pos, _ , _ = sampler.run_mcmc(p0_bl,1000);"
   ]
  },
  {
   "cell_type": "code",
   "execution_count": 14,
   "metadata": {},
   "outputs": [
    {
     "name": "stderr",
     "output_type": "stream",
     "text": [
      "WARNING:root:Too few points to create valid contours\n"
     ]
    },
    {
     "data": {
      "image/png": "[encoded data removed]",
      "text/plain": [
       "<Figure size 396x396 with 4 Axes>"
      ]
     },
     "metadata": {
      "needs_background": "light"
     },
     "output_type": "display_data"
    }
   ],
   "source": [
    "corner.corner(sampler.flatchain, labels=['xs', 'ys']);"
   ]
  },
  {
   "cell_type": "markdown",
   "metadata": {},
   "source": [
    "After 100 walkers going for 1000 steps, it seems like we only find the closest peak (stuck in local maxima). There is a hint of another peak though."
   ]
  },
  {
   "cell_type": "markdown",
   "metadata": {},
   "source": [
    "What happens if we try this near the top right source?"
   ]
  },
  {
   "cell_type": "code",
   "execution_count": 15,
   "metadata": {},
   "outputs": [],
   "source": [
    "# Construct a new EnsembleSampler object\n",
    "sampler2 = emcee.EnsembleSampler(nwalkers, ndim, get_ln_post, args=[image])\n",
    "# Start initial guess near top right source\n",
    "p0_tr = emcee.utils.sample_ball((35,35),(5,5),nwalkers)"
   ]
  },
  {
   "cell_type": "code",
   "execution_count": 16,
   "metadata": {},
   "outputs": [
    {
     "name": "stdout",
     "output_type": "stream",
     "text": [
      "CPU times: user 14.3 s, sys: 23.9 ms, total: 14.4 s\n",
      "Wall time: 14.4 s\n"
     ]
    }
   ],
   "source": [
    "%%time\n",
    "pos, _ , _ = sampler2.run_mcmc(p0_tr,1000);"
   ]
  },
  {
   "cell_type": "code",
   "execution_count": 17,
   "metadata": {},
   "outputs": [
    {
     "name": "stderr",
     "output_type": "stream",
     "text": [
      "WARNING:root:Too few points to create valid contours\n"
     ]
    },
    {
     "data": {
      "image/png": "[encoded data removed]",
      "text/plain": [
       "<Figure size 396x396 with 4 Axes>"
      ]
     },
     "metadata": {
      "needs_background": "light"
     },
     "output_type": "display_data"
    }
   ],
   "source": [
    "corner.corner(sampler2.flatchain, labels=['xs', 'ys']);"
   ]
  },
  {
   "cell_type": "markdown",
   "metadata": {},
   "source": [
    "Okay, so we now mostly get the other closest source. What if we tried to spread the walkers across the whole image?"
   ]
  },
  {
   "cell_type": "code",
   "execution_count": 18,
   "metadata": {},
   "outputs": [],
   "source": [
    "# Construct a new EnsembleSampler object\n",
    "sampler3 = emcee.EnsembleSampler(nwalkers, ndim, get_ln_post, args=[image])\n",
    "# Start initial guess near top right source\n",
    "p0_all = emcee.utils.sample_ball((25,25),(15,15),nwalkers)"
   ]
  },
  {
   "cell_type": "code",
   "execution_count": 19,
   "metadata": {},
   "outputs": [
    {
     "name": "stdout",
     "output_type": "stream",
     "text": [
      "CPU times: user 14.4 s, sys: 25.4 ms, total: 14.4 s\n",
      "Wall time: 14.4 s\n"
     ]
    }
   ],
   "source": [
    "%%time\n",
    "pos, _ , _ = sampler3.run_mcmc(p0_all,1000);"
   ]
  },
  {
   "cell_type": "code",
   "execution_count": 20,
   "metadata": {},
   "outputs": [
    {
     "data": {
      "image/png": "[encoded data removed]",
      "text/plain": [
       "<Figure size 396x396 with 4 Axes>"
      ]
     },
     "metadata": {
      "needs_background": "light"
     },
     "output_type": "display_data"
    }
   ],
   "source": [
    "corner.corner(sampler3.flatchain, labels=['xs', 'ys'], range=((0,50),(0,50)));"
   ]
  },
  {
   "cell_type": "markdown",
   "metadata": {},
   "source": [
    "# 4. Can Parallel Tempering help?\n",
    "\n",
    "Let's try this again with parallel tempering!"
   ]
  },
  {
   "cell_type": "code",
   "execution_count": 21,
   "metadata": {},
   "outputs": [],
   "source": [
    "ntemps=20\n",
    "ndim=2\n",
    "nwalkers=100"
   ]
  },
  {
   "cell_type": "code",
   "execution_count": 22,
   "metadata": {},
   "outputs": [],
   "source": [
    "p0_PT = np.random.uniform(low=10, high=20, size=(ntemps, nwalkers, ndim))"
   ]
  },
  {
   "cell_type": "code",
   "execution_count": 23,
   "metadata": {},
   "outputs": [],
   "source": [
    "sampler_PT = ptemcee.Sampler(nwalkers,ndim,get_ln_like,get_ln_prior,loglargs=[image],logpargs=[image],ntemps=ntemps)"
   ]
  },
  {
   "cell_type": "code",
   "execution_count": 24,
   "metadata": {},
   "outputs": [],
   "source": [
    "sampler_PT.reset()"
   ]
  },
  {
   "cell_type": "code",
   "execution_count": 25,
   "metadata": {},
   "outputs": [
    {
     "name": "stdout",
     "output_type": "stream",
     "text": [
      "CPU times: user 4min 17s, sys: 408 ms, total: 4min 18s\n",
      "Wall time: 4min 19s\n"
     ]
    }
   ],
   "source": [
    "%%time\n",
    "pos, _ , _ = sampler_PT.run_mcmc(p0_PT,1000);"
   ]
  },
  {
   "cell_type": "code",
   "execution_count": 26,
   "metadata": {},
   "outputs": [
    {
     "name": "stderr",
     "output_type": "stream",
     "text": [
      "WARNING:root:Too few points to create valid contours\n"
     ]
    },
    {
     "data": {
      "image/png": "[encoded data removed]",
      "text/plain": [
       "<Figure size 396x396 with 4 Axes>"
      ]
     },
     "metadata": {
      "needs_background": "light"
     },
     "output_type": "display_data"
    }
   ],
   "source": [
    "corner.corner(sampler_PT.flatchain[0,:,:], labels=['xs', 'ys'], range=((0,50),(0,50)));"
   ]
  },
  {
   "cell_type": "code",
   "execution_count": null,
   "metadata": {},
   "outputs": [],
   "source": []
  }
 ],
 "metadata": {
  "kernelspec": {
   "display_name": "Python 3",
   "language": "python",
   "name": "python3"
  },
  "language_info": {
   "codemirror_mode": {
    "name": "ipython",
    "version": 3
   },
   "file_extension": ".py",
   "mimetype": "text/x-python",
   "name": "python",
   "nbconvert_exporter": "python",
   "pygments_lexer": "ipython3",
   "version": "3.7.2"
  }
 },
 "nbformat": 4,
 "nbformat_minor": 2
}
